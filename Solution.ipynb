{
 "cells": [
  {
   "attachments": {},
   "cell_type": "markdown",
   "metadata": {},
   "source": [
    "## Libraries"
   ]
  },
  {
   "cell_type": "code",
   "execution_count": 40,
   "metadata": {},
   "outputs": [],
   "source": [
    "import sqlite3 # connect to .db file\n",
    "import sql_exec # python module to run queries and format output tables for sql mystery db\n",
    "import pandas as pd # dataframe module"
   ]
  },
  {
   "attachments": {},
   "cell_type": "markdown",
   "metadata": {},
   "source": [
    "## Database Interaction"
   ]
  },
  {
   "cell_type": "code",
   "execution_count": 45,
   "metadata": {},
   "outputs": [],
   "source": [
    "# creating file path\n",
    "dbfile = 'sql-murder-mystery.db'\n",
    "# Create a SQL connection to our SQLite database\n",
    "con = sqlite3.connect(dbfile)\n",
    "\n",
    "# creating cursor\n",
    "cur = con.cursor()\n",
    "\n",
    "meta = get_metadata(cur)\n",
    "\n",
    "# Step 1: Query the crime scene reports to assert that there is a record of a murder taking place on January 15, 2018 in SQL City.\n",
    "query1 = \"SELECT * FROM crime_scene_report WHERE date==20180115 AND city=='SQL City';\"\n",
    "r = sql_exec.run_query(cur, query1)\n",
    "df1 = sql_exec.format_output(meta, r, query1)\n",
    "\n",
    "# Step 2: Join the interview table with the persons table to view the transcripts of the witness interviews paired with the witness names.\n",
    "query2 = \"SELECT p.name, p.id, i.transcript FROM person p JOIN interview i ON i.person_id == p.id WHERE p.id IN (14887, 16371);\"\n",
    "r = sql_exec.run_query(cur, query2)\n",
    "df2 = sql_exec.format_output(meta, r, query2)\n",
    "\n",
    "# Step 3: Find the names and IDs of people who were at the gym on January 9th, 2018, and who are gold members with member IDs that start with “48Z”.\n",
    "query3 = \"SELECT gfnm.id, gfnm.person_id, gfnm.name, gfnm.membership_status, gfnchi.check_in_date FROM get_fit_now_member gfnm JOIN get_fit_now_check_in gfnchi ON gfnm.id==gfnchi.membership_id WHERE membership_status=='gold' AND gfnchi.check_in_date==20180109  AND gfnm.id LIKE '48Z%';\"\n",
    "r = sql_exec.run_query(cur, query3)\n",
    "df3 = sql_exec.format_output(meta, r, query3)\n",
    "\n",
    "# Step 4: Check if either of the suspects are registered to a vehicle thatwas the getaway car. The getaway car had ‘H42W’ in its license plate number.\n",
    "query4 = \"SELECT p.name, p.id, dl.plate_number, dl.car_make, dl.car_model FROM drivers_license dl JOIN person p ON dl.id == p.license_id WHERE dl.plate_number LIKE '%H42W%'\"\n",
    "r = sql_exec.run_query(cur, query4)\n",
    "df4 = sql_exec.format_output(meta, r, query4)\n",
    "\n",
    "# Step 5: For further investigation, search for interview transcripts from Jeremy Bowers.\n",
    "query5 = \"SELECT p.name, p.id, i.transcript FROM interview i JOIN person p ON p.id==i.person_id WHERE person_id==67318;\"\n",
    "r = sql_exec.run_query(cur, query5)\n",
    "df5 = sql_exec.format_output(meta, r, query5)\n",
    "\n",
    "# Step 6: Search for the name of the woman who hired Jeremy Bowers to commit the crime\n",
    "query6 = \"\"\"\n",
    "            SELECT p.id, p.name, dl.height, dl.hair_color, dl.car_make,\n",
    "            dl.car_model, fec.event_name, fec.date\n",
    "            FROM person p\n",
    "            JOIN drivers_license dl ON dl.id==p.license_id\n",
    "            JOIN facebook_event_checkin fec ON fec.person_id==p.id\n",
    "            WHERE dl.height >= 65 AND dl.height <= 67\n",
    "            AND dl.gender=='female' AND dl.hair_color=='red'\n",
    "            AND dl.car_make=='Tesla' AND dl.car_model=='Model S'\n",
    "            AND fec.event_name LIKE '%SQL Symphony Concert%';\n",
    "        \"\"\"\n",
    "r = sql_exec.run_query(cur, query6)\n",
    "df6 = sql_exec.format_output(meta, r, query6)\n",
    "\n",
    "\n",
    "# Be sure to close the cursor\n",
    "cur.close()\n",
    "# Be sure to close the connection\n",
    "con.close()"
   ]
  },
  {
   "attachments": {},
   "cell_type": "markdown",
   "metadata": {},
   "source": [
    "## Step #1\n",
    "```\n",
    "We are able to discover that the incident in question had two witnesses. The first witness lives in the last house on Northwestern Dr, and the second witness is named Annabel, and she lives on Franklin Ave. Our next task should be to read the interviews of the witnesses to collect more information on the murder suspect(s).\n",
    "```\n"
   ]
  },
  {
   "cell_type": "code",
   "execution_count": 43,
   "metadata": {},
   "outputs": [
    {
     "data": {
      "text/html": [
       "<div>\n",
       "<style scoped>\n",
       "    .dataframe tbody tr th:only-of-type {\n",
       "        vertical-align: middle;\n",
       "    }\n",
       "\n",
       "    .dataframe tbody tr th {\n",
       "        vertical-align: top;\n",
       "    }\n",
       "\n",
       "    .dataframe thead th {\n",
       "        text-align: right;\n",
       "    }\n",
       "</style>\n",
       "<table border=\"1\" class=\"dataframe\">\n",
       "  <thead>\n",
       "    <tr style=\"text-align: right;\">\n",
       "      <th></th>\n",
       "      <th>date</th>\n",
       "      <th>type</th>\n",
       "      <th>description</th>\n",
       "      <th>city</th>\n",
       "    </tr>\n",
       "  </thead>\n",
       "  <tbody>\n",
       "    <tr>\n",
       "      <th>0</th>\n",
       "      <td>20180115</td>\n",
       "      <td>assault</td>\n",
       "      <td>Hamilton: Lee, do you yield? Burr: You shot hi...</td>\n",
       "      <td>SQL City</td>\n",
       "    </tr>\n",
       "    <tr>\n",
       "      <th>1</th>\n",
       "      <td>20180115</td>\n",
       "      <td>assault</td>\n",
       "      <td>Report Not Found</td>\n",
       "      <td>SQL City</td>\n",
       "    </tr>\n",
       "    <tr>\n",
       "      <th>2</th>\n",
       "      <td>20180115</td>\n",
       "      <td>murder</td>\n",
       "      <td>Security footage shows that there were 2 witne...</td>\n",
       "      <td>SQL City</td>\n",
       "    </tr>\n",
       "  </tbody>\n",
       "</table>\n",
       "</div>"
      ],
      "text/plain": [
       "       date     type                                        description  \\\n",
       "0  20180115  assault  Hamilton: Lee, do you yield? Burr: You shot hi...   \n",
       "1  20180115  assault                                   Report Not Found   \n",
       "2  20180115   murder  Security footage shows that there were 2 witne...   \n",
       "\n",
       "       city  \n",
       "0  SQL City  \n",
       "1  SQL City  \n",
       "2  SQL City  "
      ]
     },
     "execution_count": 43,
     "metadata": {},
     "output_type": "execute_result"
    }
   ],
   "source": [
    "df1"
   ]
  },
  {
   "attachments": {},
   "cell_type": "markdown",
   "metadata": {},
   "source": [
    "**Figure 1:** We know that the crime was a murder so it is clear that the highlighted record\n",
    "describes the incident."
   ]
  },
  {
   "attachments": {},
   "cell_type": "markdown",
   "metadata": {},
   "source": [
    "## Step #2\n",
    "\n",
    "```\n",
    "From the resulting output we are able to read the transcripts of the witness reports. We learn several important insights from these interviews. I have listed new information  regarding the murder suspect below.\n",
    "```\n",
    "**Suspect Information:**\n",
    "\n",
    "1. The suspect is a man\n",
    "\n",
    "2. The suspect had a “Get Fit Now Gym” bag\n",
    "\n",
    "3. The suspect’s bag had an ID number starting with “48Z”\n",
    "\n",
    "4. The suspect was likely a gold member to the “Get Fit Now Gym”\n",
    "\n",
    "5. The suspect got into a car that had the phrase “H42W” as a subset of the license plate number\n",
    "\n",
    "6. The suspect was at the “Get Fit Now Gym” on January 9th, 2018"
   ]
  },
  {
   "cell_type": "code",
   "execution_count": 44,
   "metadata": {},
   "outputs": [
    {
     "data": {
      "text/html": [
       "<div>\n",
       "<style scoped>\n",
       "    .dataframe tbody tr th:only-of-type {\n",
       "        vertical-align: middle;\n",
       "    }\n",
       "\n",
       "    .dataframe tbody tr th {\n",
       "        vertical-align: top;\n",
       "    }\n",
       "\n",
       "    .dataframe thead th {\n",
       "        text-align: right;\n",
       "    }\n",
       "</style>\n",
       "<table border=\"1\" class=\"dataframe\">\n",
       "  <thead>\n",
       "    <tr style=\"text-align: right;\">\n",
       "      <th></th>\n",
       "      <th>person.name</th>\n",
       "      <th>person.id</th>\n",
       "      <th>interview.transcript</th>\n",
       "    </tr>\n",
       "  </thead>\n",
       "  <tbody>\n",
       "    <tr>\n",
       "      <th>0</th>\n",
       "      <td>Morty Schapiro</td>\n",
       "      <td>14887</td>\n",
       "      <td>I heard a gunshot and then saw a man run out. ...</td>\n",
       "    </tr>\n",
       "    <tr>\n",
       "      <th>1</th>\n",
       "      <td>Annabel Miller</td>\n",
       "      <td>16371</td>\n",
       "      <td>I saw the murder happen, and I recognized the ...</td>\n",
       "    </tr>\n",
       "  </tbody>\n",
       "</table>\n",
       "</div>"
      ],
      "text/plain": [
       "      person.name  person.id  \\\n",
       "0  Morty Schapiro      14887   \n",
       "1  Annabel Miller      16371   \n",
       "\n",
       "                                interview.transcript  \n",
       "0  I heard a gunshot and then saw a man run out. ...  \n",
       "1  I saw the murder happen, and I recognized the ...  "
      ]
     },
     "execution_count": 44,
     "metadata": {},
     "output_type": "execute_result"
    }
   ],
   "source": [
    "df2"
   ]
  },
  {
   "attachments": {},
   "cell_type": "markdown",
   "metadata": {},
   "source": [
    "**Figure 2:** This table combines the name, person id, and corresponding transcript of all the witnesses to the murder."
   ]
  },
  {
   "attachments": {},
   "cell_type": "markdown",
   "metadata": {},
   "source": [
    "## Step #3:\n",
    "```\n",
    "Find the names and IDs of people who were at the gym on\n",
    "January 9th, 2018, and who are gold members with member IDs that\n",
    "start with “48Z”.\n",
    "```"
   ]
  },
  {
   "cell_type": "code",
   "execution_count": 46,
   "metadata": {},
   "outputs": [
    {
     "data": {
      "text/html": [
       "<div>\n",
       "<style scoped>\n",
       "    .dataframe tbody tr th:only-of-type {\n",
       "        vertical-align: middle;\n",
       "    }\n",
       "\n",
       "    .dataframe tbody tr th {\n",
       "        vertical-align: top;\n",
       "    }\n",
       "\n",
       "    .dataframe thead th {\n",
       "        text-align: right;\n",
       "    }\n",
       "</style>\n",
       "<table border=\"1\" class=\"dataframe\">\n",
       "  <thead>\n",
       "    <tr style=\"text-align: right;\">\n",
       "      <th></th>\n",
       "      <th>get_fit_now_member.id</th>\n",
       "      <th>get_fit_now_member.person_id</th>\n",
       "      <th>get_fit_now_member.name</th>\n",
       "      <th>get_fit_now_member.membership_status</th>\n",
       "      <th>get_fit_now_check_in.check_in_date</th>\n",
       "    </tr>\n",
       "  </thead>\n",
       "  <tbody>\n",
       "    <tr>\n",
       "      <th>0</th>\n",
       "      <td>48Z7A</td>\n",
       "      <td>28819</td>\n",
       "      <td>Joe Germuska</td>\n",
       "      <td>gold</td>\n",
       "      <td>20180109</td>\n",
       "    </tr>\n",
       "    <tr>\n",
       "      <th>1</th>\n",
       "      <td>48Z55</td>\n",
       "      <td>67318</td>\n",
       "      <td>Jeremy Bowers</td>\n",
       "      <td>gold</td>\n",
       "      <td>20180109</td>\n",
       "    </tr>\n",
       "  </tbody>\n",
       "</table>\n",
       "</div>"
      ],
      "text/plain": [
       "  get_fit_now_member.id  get_fit_now_member.person_id get_fit_now_member.name  \\\n",
       "0                 48Z7A                         28819            Joe Germuska   \n",
       "1                 48Z55                         67318           Jeremy Bowers   \n",
       "\n",
       "  get_fit_now_member.membership_status  get_fit_now_check_in.check_in_date  \n",
       "0                                 gold                            20180109  \n",
       "1                                 gold                            20180109  "
      ]
     },
     "execution_count": 46,
     "metadata": {},
     "output_type": "execute_result"
    }
   ],
   "source": [
    "df3"
   ]
  },
  {
   "attachments": {},
   "cell_type": "markdown",
   "metadata": {},
   "source": [
    "**Figure 3:** This output table holds records of people that match all of the criteria outlined in the witness interviews. It is safe to say that either Joe Germuska or Jeremy Bowers committed the murder."
   ]
  },
  {
   "attachments": {},
   "cell_type": "markdown",
   "metadata": {},
   "source": [
    "## Step #4:\n",
    "\n",
    "```\n",
    "In this step, we can definitively say that Jeremy Bowers matched all of the criteria outlined by the witnesses, and he has registered a vehicle that has a license plate containing ‘H42W’ which was part of a witness testimony. This is enough evidence to reasonably accuse Jeremy Bowers of the murder\n",
    "```"
   ]
  },
  {
   "cell_type": "code",
   "execution_count": 47,
   "metadata": {},
   "outputs": [
    {
     "data": {
      "text/html": [
       "<div>\n",
       "<style scoped>\n",
       "    .dataframe tbody tr th:only-of-type {\n",
       "        vertical-align: middle;\n",
       "    }\n",
       "\n",
       "    .dataframe tbody tr th {\n",
       "        vertical-align: top;\n",
       "    }\n",
       "\n",
       "    .dataframe thead th {\n",
       "        text-align: right;\n",
       "    }\n",
       "</style>\n",
       "<table border=\"1\" class=\"dataframe\">\n",
       "  <thead>\n",
       "    <tr style=\"text-align: right;\">\n",
       "      <th></th>\n",
       "      <th>person.name</th>\n",
       "      <th>person.id</th>\n",
       "      <th>drivers_license.plate_number</th>\n",
       "      <th>drivers_license.car_make</th>\n",
       "      <th>drivers_license.car_model</th>\n",
       "    </tr>\n",
       "  </thead>\n",
       "  <tbody>\n",
       "    <tr>\n",
       "      <th>0</th>\n",
       "      <td>Tushar Chandra</td>\n",
       "      <td>51739</td>\n",
       "      <td>4H42WR</td>\n",
       "      <td>Nissan</td>\n",
       "      <td>Altima</td>\n",
       "    </tr>\n",
       "    <tr>\n",
       "      <th>1</th>\n",
       "      <td>Jeremy Bowers</td>\n",
       "      <td>67318</td>\n",
       "      <td>0H42W2</td>\n",
       "      <td>Chevrolet</td>\n",
       "      <td>Spark LS</td>\n",
       "    </tr>\n",
       "    <tr>\n",
       "      <th>2</th>\n",
       "      <td>Maxine Whitely</td>\n",
       "      <td>78193</td>\n",
       "      <td>H42W0X</td>\n",
       "      <td>Toyota</td>\n",
       "      <td>Prius</td>\n",
       "    </tr>\n",
       "  </tbody>\n",
       "</table>\n",
       "</div>"
      ],
      "text/plain": [
       "      person.name  person.id drivers_license.plate_number  \\\n",
       "0  Tushar Chandra      51739                       4H42WR   \n",
       "1   Jeremy Bowers      67318                       0H42W2   \n",
       "2  Maxine Whitely      78193                       H42W0X   \n",
       "\n",
       "  drivers_license.car_make drivers_license.car_model  \n",
       "0                   Nissan                    Altima  \n",
       "1                Chevrolet                  Spark LS  \n",
       "2                   Toyota                     Prius  "
      ]
     },
     "execution_count": 47,
     "metadata": {},
     "output_type": "execute_result"
    }
   ],
   "source": [
    "df4"
   ]
  },
  {
   "attachments": {},
   "cell_type": "markdown",
   "metadata": {},
   "source": [
    "**Figure 2:** This output table contains the names and id numbers of all the people who are\n",
    "registered to vehicles with the ‘H42W’ substring in their license plate numbers."
   ]
  },
  {
   "attachments": {},
   "cell_type": "markdown",
   "metadata": {},
   "source": [
    "## Step #5\n",
    "\n",
    "```\n",
    "From the Jeremy Bowers transcript we learn several key insights regarding the circumstances of his crime. We learn that he was hired by a woman who had a lot of money, who was between 65 and 67 inches tall, with red hair, drives a Tesla Model S, and attended the SQL Symphony Concert three times in December 2017.\n",
    "```"
   ]
  },
  {
   "cell_type": "code",
   "execution_count": 48,
   "metadata": {},
   "outputs": [
    {
     "data": {
      "text/html": [
       "<div>\n",
       "<style scoped>\n",
       "    .dataframe tbody tr th:only-of-type {\n",
       "        vertical-align: middle;\n",
       "    }\n",
       "\n",
       "    .dataframe tbody tr th {\n",
       "        vertical-align: top;\n",
       "    }\n",
       "\n",
       "    .dataframe thead th {\n",
       "        text-align: right;\n",
       "    }\n",
       "</style>\n",
       "<table border=\"1\" class=\"dataframe\">\n",
       "  <thead>\n",
       "    <tr style=\"text-align: right;\">\n",
       "      <th></th>\n",
       "      <th>person.name</th>\n",
       "      <th>person.id</th>\n",
       "      <th>interview.transcript</th>\n",
       "    </tr>\n",
       "  </thead>\n",
       "  <tbody>\n",
       "    <tr>\n",
       "      <th>0</th>\n",
       "      <td>Jeremy Bowers</td>\n",
       "      <td>67318</td>\n",
       "      <td>I was hired by a woman with a lot of money. I ...</td>\n",
       "    </tr>\n",
       "  </tbody>\n",
       "</table>\n",
       "</div>"
      ],
      "text/plain": [
       "     person.name  person.id                               interview.transcript\n",
       "0  Jeremy Bowers      67318  I was hired by a woman with a lot of money. I ..."
      ]
     },
     "execution_count": 48,
     "metadata": {},
     "output_type": "execute_result"
    }
   ],
   "source": [
    "df5"
   ]
  },
  {
   "attachments": {},
   "cell_type": "markdown",
   "metadata": {},
   "source": [
    "**Figure 5:** This output table contains the transcript from the interview from Jeremy Bowers."
   ]
  },
  {
   "attachments": {},
   "cell_type": "markdown",
   "metadata": {},
   "source": [
    "## Step #6\n",
    "\n",
    "```\n",
    "Based on the description in the Jeremy Bowers interview we are able to find who was the brains behind the operation\n",
    "```"
   ]
  },
  {
   "cell_type": "code",
   "execution_count": 49,
   "metadata": {},
   "outputs": [
    {
     "data": {
      "text/html": [
       "<div>\n",
       "<style scoped>\n",
       "    .dataframe tbody tr th:only-of-type {\n",
       "        vertical-align: middle;\n",
       "    }\n",
       "\n",
       "    .dataframe tbody tr th {\n",
       "        vertical-align: top;\n",
       "    }\n",
       "\n",
       "    .dataframe thead th {\n",
       "        text-align: right;\n",
       "    }\n",
       "</style>\n",
       "<table border=\"1\" class=\"dataframe\">\n",
       "  <thead>\n",
       "    <tr style=\"text-align: right;\">\n",
       "      <th></th>\n",
       "      <th>person.id</th>\n",
       "      <th>person.name</th>\n",
       "      <th>drivers_license.height</th>\n",
       "      <th>drivers_license.hair_color</th>\n",
       "      <th>drivers_license.car_make</th>\n",
       "      <th>drivers_license.car_model</th>\n",
       "      <th>facebook_event_checkin.event_name</th>\n",
       "      <th>facebook_event_checkin.date</th>\n",
       "    </tr>\n",
       "  </thead>\n",
       "  <tbody>\n",
       "    <tr>\n",
       "      <th>0</th>\n",
       "      <td>99716</td>\n",
       "      <td>Miranda Priestly</td>\n",
       "      <td>66</td>\n",
       "      <td>red</td>\n",
       "      <td>Tesla</td>\n",
       "      <td>Model S</td>\n",
       "      <td>SQL Symphony Concert</td>\n",
       "      <td>20171206</td>\n",
       "    </tr>\n",
       "    <tr>\n",
       "      <th>1</th>\n",
       "      <td>99716</td>\n",
       "      <td>Miranda Priestly</td>\n",
       "      <td>66</td>\n",
       "      <td>red</td>\n",
       "      <td>Tesla</td>\n",
       "      <td>Model S</td>\n",
       "      <td>SQL Symphony Concert</td>\n",
       "      <td>20171212</td>\n",
       "    </tr>\n",
       "    <tr>\n",
       "      <th>2</th>\n",
       "      <td>99716</td>\n",
       "      <td>Miranda Priestly</td>\n",
       "      <td>66</td>\n",
       "      <td>red</td>\n",
       "      <td>Tesla</td>\n",
       "      <td>Model S</td>\n",
       "      <td>SQL Symphony Concert</td>\n",
       "      <td>20171229</td>\n",
       "    </tr>\n",
       "  </tbody>\n",
       "</table>\n",
       "</div>"
      ],
      "text/plain": [
       "   person.id       person.name  drivers_license.height  \\\n",
       "0      99716  Miranda Priestly                      66   \n",
       "1      99716  Miranda Priestly                      66   \n",
       "2      99716  Miranda Priestly                      66   \n",
       "\n",
       "  drivers_license.hair_color drivers_license.car_make  \\\n",
       "0                        red                    Tesla   \n",
       "1                        red                    Tesla   \n",
       "2                        red                    Tesla   \n",
       "\n",
       "              drivers_license.car_model facebook_event_checkin.event_name  \\\n",
       "0                               Model S              SQL Symphony Concert   \n",
       "1                               Model S              SQL Symphony Concert   \n",
       "2                               Model S              SQL Symphony Concert   \n",
       "\n",
       "   facebook_event_checkin.date  \n",
       "0                     20171206  \n",
       "1                     20171212  \n",
       "2                     20171229  "
      ]
     },
     "execution_count": 49,
     "metadata": {},
     "output_type": "execute_result"
    }
   ],
   "source": [
    "df6"
   ]
  },
  {
   "attachments": {},
   "cell_type": "markdown",
   "metadata": {},
   "source": [
    "**Figure 6:** This table shows three instances of Jeremy Bowers’ boss, Miranda Priestly, attending the SQL Symphony Concert in December of 2017. "
   ]
  },
  {
   "attachments": {},
   "cell_type": "markdown",
   "metadata": {},
   "source": [
    "## Conclusion\n",
    "\n",
    "```\n",
    "We have gathered enough evidence to accuse Jeremy Bowers of the murder in SQL City on January 15, 2018. Upon further investigation it has become clear that he was not acting alone, and that he was put up to the crime by a red haired woman named Miranda Priestly. The motive behind the crime is unclear, other than that Miranda is a wealthy woman and she likely wanted to set up Jeremy with the blame in case the authorities were able to solve the crime.\n",
    "```"
   ]
  }
 ],
 "metadata": {
  "kernelspec": {
   "display_name": "sql_mystery",
   "language": "python",
   "name": "python3"
  },
  "language_info": {
   "codemirror_mode": {
    "name": "ipython",
    "version": 3
   },
   "file_extension": ".py",
   "mimetype": "text/x-python",
   "name": "python",
   "nbconvert_exporter": "python",
   "pygments_lexer": "ipython3",
   "version": "3.10.10"
  },
  "orig_nbformat": 4,
  "vscode": {
   "interpreter": {
    "hash": "efc9ff654058142204344631b422fef7d112daad32a4ad4ae226b64482b02c21"
   }
  }
 },
 "nbformat": 4,
 "nbformat_minor": 2
}
